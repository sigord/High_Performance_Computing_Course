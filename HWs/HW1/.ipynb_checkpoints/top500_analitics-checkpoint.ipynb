{
 "cells": [
  {
   "cell_type": "code",
   "execution_count": 50,
   "metadata": {},
   "outputs": [],
   "source": [
    "import re\n",
    "import requests\n",
    "\n",
    "import matplotlib.pyplot as plt\n",
    "import pandas as pd\n",
    "import numpy as np\n",
    "from sklearn.linear_model import LinearRegression\n",
    "from bs4 import BeautifulSoup"
   ]
  },
  {
   "cell_type": "markdown",
   "metadata": {},
   "source": [
    "### Task 1. Predict the performance of top 1 supercomputer in 2025.\n",
    "На основании данных рейтинга top500 спрогнозировать  производительность компьютера №1 в 2025\n"
   ]
  },
  {
   "cell_type": "code",
   "execution_count": 58,
   "metadata": {},
   "outputs": [
    {
     "data": {
      "text/html": [
       "<div>\n",
       "<style scoped>\n",
       "    .dataframe tbody tr th:only-of-type {\n",
       "        vertical-align: middle;\n",
       "    }\n",
       "\n",
       "    .dataframe tbody tr th {\n",
       "        vertical-align: top;\n",
       "    }\n",
       "\n",
       "    .dataframe thead th {\n",
       "        text-align: right;\n",
       "    }\n",
       "</style>\n",
       "<table border=\"1\" class=\"dataframe\">\n",
       "  <thead>\n",
       "    <tr style=\"text-align: right;\">\n",
       "      <th></th>\n",
       "      <th>year</th>\n",
       "      <th>month</th>\n",
       "      <th>n1</th>\n",
       "      <th>n500</th>\n",
       "      <th>total_month</th>\n",
       "    </tr>\n",
       "  </thead>\n",
       "  <tbody>\n",
       "    <tr>\n",
       "      <th>54</th>\n",
       "      <td>2020</td>\n",
       "      <td>6</td>\n",
       "      <td>4.155000e+17</td>\n",
       "      <td>1.200000e+15</td>\n",
       "      <td>324</td>\n",
       "    </tr>\n",
       "    <tr>\n",
       "      <th>55</th>\n",
       "      <td>2020</td>\n",
       "      <td>11</td>\n",
       "      <td>4.420000e+17</td>\n",
       "      <td>1.300000e+15</td>\n",
       "      <td>329</td>\n",
       "    </tr>\n",
       "    <tr>\n",
       "      <th>56</th>\n",
       "      <td>2021</td>\n",
       "      <td>6</td>\n",
       "      <td>4.420000e+17</td>\n",
       "      <td>1.500000e+15</td>\n",
       "      <td>336</td>\n",
       "    </tr>\n",
       "    <tr>\n",
       "      <th>57</th>\n",
       "      <td>2021</td>\n",
       "      <td>11</td>\n",
       "      <td>4.420000e+17</td>\n",
       "      <td>1.600000e+15</td>\n",
       "      <td>341</td>\n",
       "    </tr>\n",
       "    <tr>\n",
       "      <th>58</th>\n",
       "      <td>2022</td>\n",
       "      <td>6</td>\n",
       "      <td>1.100000e+18</td>\n",
       "      <td>1.600000e+15</td>\n",
       "      <td>348</td>\n",
       "    </tr>\n",
       "  </tbody>\n",
       "</table>\n",
       "</div>"
      ],
      "text/plain": [
       "    year  month            n1          n500  total_month\n",
       "54  2020      6  4.155000e+17  1.200000e+15          324\n",
       "55  2020     11  4.420000e+17  1.300000e+15          329\n",
       "56  2021      6  4.420000e+17  1.500000e+15          336\n",
       "57  2021     11  4.420000e+17  1.600000e+15          341\n",
       "58  2022      6  1.100000e+18  1.600000e+15          348"
      ]
     },
     "execution_count": 58,
     "metadata": {},
     "output_type": "execute_result"
    }
   ],
   "source": [
    "# parse data\n",
    "URL = \"https://www.top500.org/statistics/perfdevel/\"\n",
    "\n",
    "response = requests.get(URL)\n",
    "soup = BeautifulSoup(response.text, 'html.parser')\n",
    "text = soup.findAll('script', {\"type\" : \"text/javascript\"})[9].text\n",
    "\n",
    "unit_mapping = {\n",
    "    'GFlop/s': 1e9,\n",
    "    'TFlop/s': 1e12,\n",
    "    'PFlop/s': 1e15,\n",
    "    'EFlop/s': 1e18,\n",
    "}\n",
    "\n",
    "dates = [x[1] for x in re.findall('(\"(\\d{2}\\/\\d{4}): #1)', text)]\n",
    "years = [int(x.split('/')[1]) for x in dates]\n",
    "months = [int(x.split('/')[0]) for x in dates]\n",
    "n1_flops = [float(x[0]) * unit_mapping[x[1]]\n",
    "            for x in re.findall('#1 = (\\d+\\.\\d+) (\\w+\\/s)', text)]\n",
    "n500_flops = [float(x[0]) * unit_mapping[x[1]]\n",
    "              for x in re.findall('#500 = (\\d+\\.\\d+) (\\w+\\/s)', text)]\n",
    "\n",
    "df = pd.DataFrame({'year': years,\n",
    "                   'month': months,\n",
    "                   'n1': n1_flops,\n",
    "                   'n500': n500_flops})\n",
    "\n",
    "start_year = df.year.min()\n",
    "start_month = df[df.year == start_year].month.min()\n",
    "df['total_month'] = 12 * (df.year - start_year) + df.month - start_month\n",
    "\n",
    "df.tail()"
   ]
  },
  {
   "cell_type": "code",
   "execution_count": 59,
   "metadata": {},
   "outputs": [
    {
     "data": {
      "image/png": "[encoded data removed]",
      "text/plain": [
       "<Figure size 432x288 with 1 Axes>"
      ]
     },
     "metadata": {
      "needs_background": "light"
     },
     "output_type": "display_data"
    }
   ],
   "source": [
    "df[['n1', 'n500']].plot(logy = True);"
   ]
  },
  {
   "cell_type": "code",
   "execution_count": 62,
   "metadata": {},
   "outputs": [],
   "source": [
    "X = np.array(df.total_month).reshape(-1,1)\n",
    "y_log_n1 = np.log(df.n1)\n",
    "y_log_n500 = np.log(df.n500)"
   ]
  },
  {
   "cell_type": "code",
   "execution_count": 63,
   "metadata": {},
   "outputs": [],
   "source": [
    "lin_reg_n1 = LinearRegression().fit(X, y_log_n1)\n",
    "lin_reg_n500 = LinearRegression().fit(X, y_log_n500)"
   ]
  },
  {
   "cell_type": "code",
   "execution_count": 64,
   "metadata": {},
   "outputs": [],
   "source": [
    "years_to_pred = 3\n",
    "\n",
    "X_test = X[-1:] + np.arange(12 * years_to_pred).reshape(-1, 1)"
   ]
  },
  {
   "cell_type": "code",
   "execution_count": 65,
   "metadata": {},
   "outputs": [],
   "source": [
    "y_pred_n1 = np.exp(lin_reg_n1.predict(X_test))\n",
    "y_pred_n500 = np.exp(lin_reg_n500.predict(X_test))"
   ]
  },
  {
   "cell_type": "code",
   "execution_count": 128,
   "metadata": {},
   "outputs": [
    {
     "data": {
      "text/html": [
       "<div>\n",
       "<style scoped>\n",
       "    .dataframe tbody tr th:only-of-type {\n",
       "        vertical-align: middle;\n",
       "    }\n",
       "\n",
       "    .dataframe tbody tr th {\n",
       "        vertical-align: top;\n",
       "    }\n",
       "\n",
       "    .dataframe thead th {\n",
       "        text-align: right;\n",
       "    }\n",
       "</style>\n",
       "<table border=\"1\" class=\"dataframe\">\n",
       "  <thead>\n",
       "    <tr style=\"text-align: right;\">\n",
       "      <th></th>\n",
       "      <th>year</th>\n",
       "      <th>month</th>\n",
       "      <th>n1</th>\n",
       "      <th>n500</th>\n",
       "    </tr>\n",
       "  </thead>\n",
       "  <tbody>\n",
       "    <tr>\n",
       "      <th>90</th>\n",
       "      <td>2025</td>\n",
       "      <td>1</td>\n",
       "      <td>8.892326e+18</td>\n",
       "      <td>3.231935e+16</td>\n",
       "    </tr>\n",
       "    <tr>\n",
       "      <th>91</th>\n",
       "      <td>2025</td>\n",
       "      <td>2</td>\n",
       "      <td>9.336449e+18</td>\n",
       "      <td>3.382492e+16</td>\n",
       "    </tr>\n",
       "    <tr>\n",
       "      <th>92</th>\n",
       "      <td>2025</td>\n",
       "      <td>3</td>\n",
       "      <td>9.802753e+18</td>\n",
       "      <td>3.540063e+16</td>\n",
       "    </tr>\n",
       "    <tr>\n",
       "      <th>93</th>\n",
       "      <td>2025</td>\n",
       "      <td>4</td>\n",
       "      <td>1.029235e+19</td>\n",
       "      <td>3.704974e+16</td>\n",
       "    </tr>\n",
       "    <tr>\n",
       "      <th>94</th>\n",
       "      <td>2025</td>\n",
       "      <td>5</td>\n",
       "      <td>1.080639e+19</td>\n",
       "      <td>3.877567e+16</td>\n",
       "    </tr>\n",
       "  </tbody>\n",
       "</table>\n",
       "</div>"
      ],
      "text/plain": [
       "    year  month            n1          n500\n",
       "90  2025      1  8.892326e+18  3.231935e+16\n",
       "91  2025      2  9.336449e+18  3.382492e+16\n",
       "92  2025      3  9.802753e+18  3.540063e+16\n",
       "93  2025      4  1.029235e+19  3.704974e+16\n",
       "94  2025      5  1.080639e+19  3.877567e+16"
      ]
     },
     "execution_count": 128,
     "metadata": {},
     "output_type": "execute_result"
    }
   ],
   "source": [
    "months = (np.r_[X, X_test])\n",
    "months += start_month\n",
    "years = np.concatenate(months // 12 + start_year)\n",
    "months = np.concatenate(months % 12)\n",
    "\n",
    "y_EFlops_n1 = np.r_[np.array(df.n1), y_pred_n1] / unit_mapping['EFlop/s']\n",
    "y_EFlops_n500 = np.r_[np.array(df.n500), y_pred_n500] / unit_mapping['EFlop/s']\n",
    "y_GFlops_n1 = np.r_[np.array(df.n1), y_pred_n1] / unit_mapping['GFlop/s']\n",
    "y_GFlops_n500 = np.r_[np.array(df.n500), y_pred_n500] / unit_mapping['GFlop/s']\n",
    "y_PFlops_n500 = np.r_[np.array(df.n500), y_pred_n500] / unit_mapping['PFlop/s']\n",
    "df_final = pd.DataFrame({'year': years,\n",
    "               'month': months,\n",
    "               'n1': np.r_[np.array(df.n1), y_pred_n1],\n",
    "               'n500': np.r_[np.array(df.n500), y_pred_n500]})\n",
    "df_final.tail()"
   ]
  },
  {
   "cell_type": "code",
   "execution_count": 93,
   "metadata": {},
   "outputs": [
    {
     "name": "stdout",
     "output_type": "stream",
     "text": [
      "Top 1 in 2025 10.81 EFlops\n",
      "Top 500 in 2025 0.04 EFlops\n",
      "Top 500 in 2025 38.78 PFlops\n"
     ]
    }
   ],
   "source": [
    "print(f\"Top 1 in 2025 {y_EFlops_n1[-1]:.2f} EFlops\")\n",
    "print(f\"Top 500 in 2025 {y_EFlops_n500[-1]:.2f} EFlops\")\n",
    "print(f\"Top 500 in 2025 {y_PFlops_n500[-1]:.2f} PFlops\")"
   ]
  },
  {
   "cell_type": "code",
   "execution_count": 94,
   "metadata": {},
   "outputs": [
    {
     "data": {
      "image/png": "[encoded data removed]",
      "text/plain": [
       "<Figure size 432x288 with 1 Axes>"
      ]
     },
     "metadata": {
      "needs_background": "light"
     },
     "output_type": "display_data"
    }
   ],
   "source": [
    "df_final[['n1', 'n500']].plot(logy = True);"
   ]
  },
  {
   "cell_type": "markdown",
   "metadata": {},
   "source": [
    "### Task 2. Find the percentage of all consumption on Earth consumed by all computers from the top500\n",
    "Оцените какой процент всего производимого на Земле электричества потребляют все компьютеры из top500 (на основании открытых данных top500.org)\n",
    "\n",
    "Total world electricity consumption in 2021 $28466.3$ $TWh$ $=$ $10^9$ $kWh$\n",
    "\n",
    "Source [Statistical Review of World Energy 2022](https://www.bp.com/content/dam/bp/business-sites/en/global/corporate/pdfs/energy-economics/statistical-review/bp-stats-review-2022-full-report.pdf)\n"
   ]
  },
  {
   "cell_type": "code",
   "execution_count": 138,
   "metadata": {},
   "outputs": [
    {
     "name": "stdout",
     "output_type": "stream",
     "text": [
      "Top-500 total power consumption: 195516.0 kWh.\n",
      "Top-500 total approximate power consumption: 269296.0 kWh.\n",
      "Result 0.000000687%\n",
      "Approximate result  0.000000946%\n"
     ]
    }
   ],
   "source": [
    "URL = 'https://www.top500.org/lists/top500/list/2022/06/?page='\n",
    "\n",
    "window_len = 3\n",
    "power_consumption_kwh = 0\n",
    "power_consumption_kwh_approximate = list()\n",
    "response = requests.get(URL + '1')\n",
    "soup = BeautifulSoup(response.text, 'html.parser')\n",
    "table = soup.find('table')\n",
    "# table\n",
    "for x in table.findAll('td')[5::6]:\n",
    "    value = x.text\n",
    "    if value:\n",
    "        try:\n",
    "            power_kwh = float(value.replace(',', ''))\n",
    "            power_consumption_kwh += power_kwh\n",
    "            power_consumption_kwh_approximate.append(power_kwh)\n",
    "        except:\n",
    "            continue\n",
    "    else:\n",
    "        # To fix none values fill them with mean of window_len last values\n",
    "        power_consumption_kwh_approximate.append(\n",
    "            sum(power_consumption_kwh_approximate[-window_len:])/window_len)\n",
    "\n",
    "\n",
    "print(f'Top-500 total power consumption: {power_consumption_kwh:.1f} kWh.')\n",
    "print(f'Top-500 total approximate power consumption: {sum(power_consumption_kwh_approximate):.1f} kWh.')\n",
    "total_world_power_production_kwh = 28466.3 * 1e9\n",
    "print(f'Result {power_consumption_kwh / total_world_power_production_kwh * 100:.9f}%')\n",
    "print(f'Approximate result  {sum(power_consumption_kwh_approximate) / total_world_power_production_kwh * 100:.9f}%')"
   ]
  },
  {
   "cell_type": "code",
   "execution_count": null,
   "metadata": {},
   "outputs": [],
   "source": []
  }
 ],
 "metadata": {
  "kernelspec": {
   "display_name": "Python 3 (ipykernel)",
   "language": "python",
   "name": "python3"
  },
  "language_info": {
   "codemirror_mode": {
    "name": "ipython",
    "version": 3
   },
   "file_extension": ".py",
   "mimetype": "text/x-python",
   "name": "python",
   "nbconvert_exporter": "python",
   "pygments_lexer": "ipython3",
   "version": "3.9.12"
  },
  "vscode": {
   "interpreter": {
    "hash": "28b54341ba418d8b41d9325a8bada4493fdc67b96c9c52df79ec734ce3f30c44"
   }
  }
 },
 "nbformat": 4,
 "nbformat_minor": 2
}
